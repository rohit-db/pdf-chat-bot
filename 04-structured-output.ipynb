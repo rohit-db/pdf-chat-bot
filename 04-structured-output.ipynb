{
 "cells": [
  {
   "cell_type": "code",
   "execution_count": 0,
   "metadata": {
    "application/vnd.databricks.v1+cell": {
     "cellMetadata": {
      "byteLimit": 2048000,
      "rowLimit": 10000
     },
     "inputWidgets": {},
     "nuid": "b8220dd8-85b4-4a08-b222-c23236558e4c",
     "showTitle": false,
     "tableResultSettingsMap": {},
     "title": ""
    }
   },
   "outputs": [],
   "source": [
    "catalog_name = \"rohitb_demo\"\n",
    "schema_name = \"pdf_chat\"\n",
    "table_name = \"parsed_pdf_docs\"\n",
    "full_table_path = f\"{catalog_name}.{schema_name}.{table_name}\""
   ]
  },
  {
   "cell_type": "markdown",
   "metadata": {
    "application/vnd.databricks.v1+cell": {
     "cellMetadata": {},
     "inputWidgets": {},
     "nuid": "9e215a57-9b20-4a00-87bd-d7293d16af59",
     "showTitle": false,
     "tableResultSettingsMap": {},
     "title": ""
    }
   },
   "source": [
    "# Structured Output using ai_query"
   ]
  },
  {
   "cell_type": "markdown",
   "metadata": {
    "application/vnd.databricks.v1+cell": {
     "cellMetadata": {},
     "inputWidgets": {},
     "nuid": "14f5e977-1079-4660-8562-ed58f4b46e36",
     "showTitle": false,
     "tableResultSettingsMap": {},
     "title": ""
    }
   },
   "source": [
    "## What are structured outputs?\n",
    "Structured outputs provide a way to generate structured data in the form of JSON objects from your input data. You can choose to generate text, unstructured JSON objects, and JSON objects that adhere to a specific JSON schema. Structured outputs are supported for chat models served using Foundation Model APIs pay-per-token and provisioned throughput endpoints.\n",
    "\n",
    "Databricks recommends using structured outputs for the following scenarios:\n",
    "\n",
    "Extracting data from large amounts of documents. For example, identifying and classifying product review feedback as negative, positive or neutral.\n",
    "Batch inference tasks that require outputs to be in a specified format.\n",
    "Data processing, like turning unstructured data into structured data."
   ]
  },
  {
   "cell_type": "code",
   "execution_count": 0,
   "metadata": {
    "application/vnd.databricks.v1+cell": {
     "cellMetadata": {
      "byteLimit": 2048000,
      "rowLimit": 10000
     },
     "inputWidgets": {},
     "nuid": "2139de64-cfad-4142-b6e6-9b7eef4a4a2e",
     "showTitle": false,
     "tableResultSettingsMap": {},
     "title": ""
    }
   },
   "outputs": [],
   "source": [
    "response_format = \"\"\"\n",
    "{\n",
    "  \"type\": \"json_schema\",\n",
    "  \"json_schema\": {\n",
    "    \"name\": \"Billing Analysis\",\n",
    "    \"schema\": {\n",
    "      \"properties\": {\n",
    "        \"payment_summary\": {\n",
    "          \"type\": \"object\",\n",
    "          \"properties\": {\n",
    "            \"auto_pay_enrolled\": {\"type\": \"boolean\"},\n",
    "            \"auto_pay_amount\": {\"type\": \"number\"},\n",
    "            \"total_due\": {\"type\": \"number\"},\n",
    "            \"auto_pay_date\": {\"type\": \"string\", \"format\": \"date\"},\n",
    "            \"due_date\": {\"type\": \"string\", \"format\": \"date\"}\n",
    "          }\n",
    "        },\n",
    "        \"services\": {\n",
    "          \"type\": \"array\",\n",
    "          \"items\": {\n",
    "            \"type\": \"object\",\n",
    "            \"properties\": {\n",
    "              \"company_fees_surcharges\": {\"type\": \"number\"},\n",
    "              \"phone_number\": {\"type\": \"string\"},\n",
    "              \"monthly_charge\": {\"type\": \"number\"},\n",
    "              \"equipment_charge\": {\"type\": [\"number\", \"null\"]},\n",
    "              \"government_fees_taxes\": {\"type\": [\"number\", \"null\"]},\n",
    "              \"total\": {\"type\": \"number\"},\n",
    "              \"service_plan\": {\"type\": \"string\"},\n",
    "              \"user\": {\"type\": \"string\"}\n",
    "            }\n",
    "          }\n",
    "        },\n",
    "        \"usage_summary\": {\n",
    "          \"type\": \"array\",\n",
    "          \"items\": {\n",
    "            \"type\": \"object\",\n",
    "            \"properties\": {\n",
    "              \"phone_number\": {\"type\": \"string\"},\n",
    "              \"talk_minutes\": {\"type\": \"number\"},\n",
    "              \"text_messages\": {\"type\": \"number\"},\n",
    "              \"data_usage_gb\": {\"type\": \"number\"},\n",
    "              \"user\": {\"type\": \"string\"}\n",
    "            }\n",
    "          }\n",
    "        },\n",
    "        \"document_metadata\": {\n",
    "          \"type\": \"object\",\n",
    "          \"properties\": {\n",
    "            \"provider\": {\"type\": \"string\"},\n",
    "            \"account_number\": {\"type\": \"string\"},\n",
    "            \"bill_date\": {\"type\": \"string\", \"format\": \"date\"},\n",
    "            \"billing_period\": {\n",
    "              \"type\": \"object\",\n",
    "              \"properties\": {\n",
    "                \"start_date\": {\"type\": [\"string\", \"null\"], \"format\": \"date\"},\n",
    "                \"end_date\": {\"type\": [\"string\", \"null\"], \"format\": \"date\"}\n",
    "              }\n",
    "            },\n",
    "            \"account_holder\": {\"type\": \"string\"}\n",
    "          }\n",
    "        },\n",
    "        \"charges_breakdown\": {\"type\": [\"object\", \"null\"]},\n",
    "        \"additional_information\": {\n",
    "          \"type\": \"object\",\n",
    "          \"properties\": {\n",
    "            \"roaming_details\": {\"type\": [\"object\", \"null\"]},\n",
    "            \"important_notices\": {\n",
    "              \"type\": \"array\",\n",
    "              \"items\": {\"type\": \"string\"}\n",
    "            }\n",
    "          }\n",
    "        },\n",
    "        \"discounts\": {\"type\": [\"object\", \"null\"]}\n",
    "      },\n",
    "      \"required\": [\n",
    "        \"payment_summary\",\n",
    "        \"services\",\n",
    "        \"usage_summary\",\n",
    "        \"document_metadata\",\n",
    "        \"charges_breakdown\",\n",
    "        \"additional_information\",\n",
    "        \"discounts\"\n",
    "      ],\n",
    "      \"title\": \"Billing Analysis\",\n",
    "      \"type\": \"object\"\n",
    "    },\n",
    "    \"strict\": true\n",
    "  }\n",
    "}\n",
    "\"\"\""
   ]
  },
  {
   "cell_type": "code",
   "execution_count": 0,
   "metadata": {
    "application/vnd.databricks.v1+cell": {
     "cellMetadata": {
      "byteLimit": 2048000,
      "rowLimit": 10000
     },
     "inputWidgets": {},
     "nuid": "551b0a3e-9aad-4d5c-807f-d9ecc92b971a",
     "showTitle": false,
     "tableResultSettingsMap": {},
     "title": ""
    }
   },
   "outputs": [],
   "source": [
    "# Cell 3\n",
    "query = f\"\"\"\n",
    "        SELECT parsed,\n",
    "        parse_json(ai_query(\n",
    "          \"databricks-meta-llama-3-1-70b-instruct\",\n",
    "          CONCAT(\n",
    "            \"You are an AI specialized in billing analysis. Review the following comment and provide structured feedback in the given JSON format: \",\n",
    "          parsed),\n",
    "          responseFormat => '{response_format}'\n",
    "        )) AS response\n",
    "        FROM {full_table_path} limit 10\n",
    "\"\"\""
   ]
  },
  {
   "cell_type": "code",
   "execution_count": 0,
   "metadata": {
    "application/vnd.databricks.v1+cell": {
     "cellMetadata": {
      "byteLimit": 2048000,
      "rowLimit": 10000
     },
     "inputWidgets": {},
     "nuid": "f1b6064a-5069-4db0-aa69-e768ecaf1acd",
     "showTitle": false,
     "tableResultSettingsMap": {},
     "title": ""
    }
   },
   "outputs": [],
   "source": [
    "spark.sql(query).display()"
   ]
  },
  {
   "cell_type": "markdown",
   "metadata": {
    "application/vnd.databricks.v1+cell": {
     "cellMetadata": {},
     "inputWidgets": {},
     "nuid": "20f5b5d7-f945-4c10-9dd9-8dd43ee94c26",
     "showTitle": false,
     "tableResultSettingsMap": {},
     "title": ""
    }
   },
   "source": [
    "# Key Information Extraction using AI Builder"
   ]
  },
  {
   "cell_type": "markdown",
   "metadata": {
    "application/vnd.databricks.v1+cell": {
     "cellMetadata": {},
     "inputWidgets": {},
     "nuid": "3d309eb5-fab0-486e-896b-ae852cfd526b",
     "showTitle": false,
     "tableResultSettingsMap": {},
     "title": ""
    }
   },
   "source": [
    "The Databricks Key Information Extraction (KIE) Private Preview is designed to simplify the process of transforming a large volume of unlabeled text documents into a structured table with extracted information for each document. Examples of KIE we have seen from customers are pulling prices and lease information from contracts, pulling stock trade details from PDFs, pulling important details from news articles, etc. \n",
    "\n",
    "Example of using the KIE endpoint in ai_query for batch inference in SQL\n",
    "\n",
    "\n",
    "\n",
    "This feature leverages automated evaluation capabilities, including MLflow and Agent Evaluation, to enable rapid assessment of the cost-quality tradeoff for your specific extraction task, allowing you to make informed decisions about the balance between accuracy and resource investment. We then provide a fast path to real-time deployment or batch inference. \n"
   ]
  },
  {
   "cell_type": "code",
   "execution_count": 0,
   "metadata": {
    "application/vnd.databricks.v1+cell": {
     "cellMetadata": {
      "byteLimit": 2048000,
      "implicitDf": true,
      "rowLimit": 10000
     },
     "inputWidgets": {},
     "nuid": "0a467b65-dcbc-491f-a13f-3f5dfcf41764",
     "showTitle": false,
     "tableResultSettingsMap": {},
     "title": ""
    }
   },
   "outputs": [],
   "source": [
    "%sql \n",
    "WITH query_results AS (\n",
    "  SELECT\n",
    "    value AS input,\n",
    "    ai_query(\n",
    "      'rb-extract-bills',\n",
    "      input,\n",
    "      failOnError => false\n",
    "    ) AS response\n",
    "  FROM (\n",
    "    SELECT value \n",
    "    FROM read_files('/Volumes/rohitb_demo/pilot_demo/my-volume/pdfs/parsed/', wholeText => true, format => 'text')\n",
    "    LIMIT 20\n",
    "  )\n",
    ")\n",
    "SELECT\n",
    "  input,\n",
    "  try_parse_json(response.result) AS response,\n",
    "  response.errorMessage AS error\n",
    "FROM query_results"
   ]
  },
  {
   "cell_type": "code",
   "execution_count": 0,
   "metadata": {
    "application/vnd.databricks.v1+cell": {
     "cellMetadata": {
      "byteLimit": 2048000,
      "implicitDf": true,
      "rowLimit": 10000
     },
     "inputWidgets": {},
     "nuid": "79c8f8da-2338-472f-8550-8303f06dccec",
     "showTitle": false,
     "tableResultSettingsMap": {},
     "title": ""
    }
   },
   "outputs": [],
   "source": [
    "%sql\n",
    "create or replace table rohitb_demo.pdf_chat.pdf_structured_output as \n",
    "WITH query_results AS (\n",
    "  SELECT\n",
    "    value AS input,\n",
    "    ai_query(\n",
    "      'rb-extract-bills',\n",
    "      input,\n",
    "      failOnError => false\n",
    "    ) AS response\n",
    "  FROM (\n",
    "    SELECT value \n",
    "    FROM read_files('/Volumes/rohitb_demo/pilot_demo/my-volume/pdfs/parsed/', wholeText => true, format => 'text')\n",
    "    LIMIT 20\n",
    "  )\n",
    ")\n",
    "SELECT\n",
    "  input,\n",
    "  try_parse_json(response.result) AS response,\n",
    "  response.errorMessage AS error\n",
    "FROM query_results"
   ]
  }
 ],
 "metadata": {
  "application/vnd.databricks.v1+notebook": {
   "computePreferences": null,
   "dashboards": [],
   "environmentMetadata": {
    "base_environment": "",
    "environment_version": "2"
   },
   "inputWidgetPreferences": null,
   "language": "python",
   "notebookMetadata": {
    "mostRecentlyExecutedCommandWithImplicitDF": {
     "commandId": 2493754673886740,
     "dataframes": [
      "_sqldf"
     ]
    },
    "pythonIndentUnit": 2
   },
   "notebookName": "04-structured-output",
   "widgets": {}
  },
  "language_info": {
   "name": "python"
  }
 },
 "nbformat": 4,
 "nbformat_minor": 0
}
