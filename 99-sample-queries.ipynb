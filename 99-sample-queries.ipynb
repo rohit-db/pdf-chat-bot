{
 "cells": [
  {
   "cell_type": "markdown",
   "metadata": {
    "application/vnd.databricks.v1+cell": {
     "cellMetadata": {},
     "inputWidgets": {},
     "nuid": "5eea7afd-780f-48b6-8cae-67921502e8c5",
     "showTitle": false,
     "tableResultSettingsMap": {},
     "title": ""
    }
   },
   "source": [
    "# Review Tables"
   ]
  },
  {
   "cell_type": "code",
   "execution_count": 0,
   "metadata": {
    "application/vnd.databricks.v1+cell": {
     "cellMetadata": {
      "byteLimit": 2048000,
      "implicitDf": true,
      "rowLimit": 10000
     },
     "inputWidgets": {},
     "nuid": "9f4ebaf0-ed35-4360-ace4-a57eb2315497",
     "showTitle": false,
     "tableResultSettingsMap": {},
     "title": ""
    }
   },
   "outputs": [],
   "source": [
    "%sql\n",
    "select * from rohitb_demo.pdf_chat.parsed_pdf_docs"
   ]
  },
  {
   "cell_type": "code",
   "execution_count": 0,
   "metadata": {
    "application/vnd.databricks.v1+cell": {
     "cellMetadata": {
      "byteLimit": 2048000,
      "implicitDf": true,
      "rowLimit": 10000
     },
     "inputWidgets": {},
     "nuid": "f2d75b33-5e3a-4e18-8aa8-6dd50f1f9c3f",
     "showTitle": false,
     "tableResultSettingsMap": {},
     "title": ""
    }
   },
   "outputs": [],
   "source": [
    "%sql\n",
    "\n",
    "select * from rohitb_demo.pdf_chat.chunked_pdf_docs"
   ]
  },
  {
   "cell_type": "code",
   "execution_count": 0,
   "metadata": {
    "application/vnd.databricks.v1+cell": {
     "cellMetadata": {
      "byteLimit": 2048000,
      "implicitDf": true,
      "rowLimit": 10000
     },
     "inputWidgets": {},
     "nuid": "32a2af79-3ec0-469b-9d2c-cff4e68e63af",
     "showTitle": false,
     "tableResultSettingsMap": {},
     "title": ""
    }
   },
   "outputs": [],
   "source": [
    "%sql\n",
    "\n",
    "select * from rohitb_demo.pdf_chat.pdf_structured_output"
   ]
  },
  {
   "cell_type": "markdown",
   "metadata": {
    "application/vnd.databricks.v1+cell": {
     "cellMetadata": {},
     "inputWidgets": {},
     "nuid": "60dab1a9-8b6a-4499-953c-046ad74b3a41",
     "showTitle": false,
     "tableResultSettingsMap": {},
     "title": ""
    }
   },
   "source": [
    "# Aggregation Query Examples"
   ]
  },
  {
   "cell_type": "code",
   "execution_count": 0,
   "metadata": {
    "application/vnd.databricks.v1+cell": {
     "cellMetadata": {
      "byteLimit": 2048000,
      "implicitDf": true,
      "rowLimit": 10000
     },
     "inputWidgets": {},
     "nuid": "c883b2c0-fc7e-4371-8085-df8fba086029",
     "showTitle": false,
     "tableResultSettingsMap": {},
     "title": ""
    }
   },
   "outputs": [],
   "source": [
    "%sql\n",
    "select\n",
    "  response:document_metadata:bill_date,\n",
    "  response:additional_information,\n",
    "  response:charges_breakdown,\n",
    "  response:discounts,\n",
    "  response:payment_summary,\n",
    "  response:usage_summary, \n",
    "  schema_of_variant(response)\n",
    "from\n",
    "  rohitb_demo.pdf_chat.pdf_structured_output"
   ]
  },
  {
   "cell_type": "code",
   "execution_count": 0,
   "metadata": {
    "application/vnd.databricks.v1+cell": {
     "cellMetadata": {
      "byteLimit": 2048000,
      "implicitDf": true,
      "rowLimit": 10000
     },
     "inputWidgets": {},
     "nuid": "59235e5f-5a67-4130-980d-2caa1a2a02ee",
     "showTitle": false,
     "tableResultSettingsMap": {},
     "title": ""
    }
   },
   "outputs": [],
   "source": [
    "%sql\n",
    "-- total data usage across all bills\n",
    "with usage as (\n",
    "  select\n",
    "    response:document_metadata:bill_date::date as date,\n",
    "    parse_json(us):data_usage_gb::double as data_usage_gb,\n",
    "    parse_json(us):phone_number::string as phone_number,\n",
    "    parse_json(us):talk_minutes::int as talk_minutes,\n",
    "    parse_json(us):text_messages::int as text_messages,\n",
    "    parse_json(us):user::string as user,\n",
    "    parse_json(us)\n",
    "  from\n",
    "    rohitb_demo.pdf_chat.pdf_structured_output\n",
    "    lateral view explode(response:usage_summary::array<STRING>) as us\n",
    ")\n",
    "select\n",
    "  date, \n",
    "  user,\n",
    "  phone_number,\n",
    "  sum(data_usage_gb),\n",
    "  sum(talk_minutes),\n",
    "  sum(text_messages)\n",
    "from\n",
    "  usage\n",
    "group by all "
   ]
  }
 ],
 "metadata": {
  "application/vnd.databricks.v1+notebook": {
   "computePreferences": {
    "hardware": {
     "accelerator": null,
     "gpuPoolId": null,
     "memory": null
    }
   },
   "dashboards": [],
   "environmentMetadata": {
    "base_environment": "",
    "dependencies": [
     "mlflow",
     "databricks-langchain",
     " databricks-agents",
     " uv",
     "langgraph"
    ],
    "environment_version": "2"
   },
   "inputWidgetPreferences": null,
   "language": "python",
   "notebookMetadata": {
    "mostRecentlyExecutedCommandWithImplicitDF": {
     "commandId": 2493754673906013,
     "dataframes": [
      "_sqldf"
     ]
    },
    "pythonIndentUnit": 2
   },
   "notebookName": "99-sample-queries",
   "widgets": {}
  },
  "language_info": {
   "name": "python"
  }
 },
 "nbformat": 4,
 "nbformat_minor": 0
}
