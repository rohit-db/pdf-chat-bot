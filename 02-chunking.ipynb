{
 "cells": [
  {
   "cell_type": "code",
   "execution_count": 0,
   "metadata": {
    "application/vnd.databricks.v1+cell": {
     "cellMetadata": {
      "byteLimit": 2048000,
      "rowLimit": 10000
     },
     "inputWidgets": {},
     "nuid": "5acd422a-02b2-4046-9639-4681fc0bdc7a",
     "showTitle": false,
     "tableResultSettingsMap": {},
     "title": ""
    },
    "jupyter": {
     "outputs_hidden": true
    }
   },
   "outputs": [],
   "source": [
    "%pip install databricks-vectorsearch databricks-langchain\n",
    "%restart_python"
   ]
  },
  {
   "cell_type": "code",
   "execution_count": 0,
   "metadata": {
    "application/vnd.databricks.v1+cell": {
     "cellMetadata": {
      "byteLimit": 2048000,
      "rowLimit": 10000
     },
     "inputWidgets": {},
     "nuid": "6f78a45d-99cc-4214-9c67-ae86385fea6e",
     "showTitle": false,
     "tableResultSettingsMap": {},
     "title": ""
    }
   },
   "outputs": [],
   "source": [
    "dbutils.widgets.text(\"catalog_name\", \"rohitb_demo\")\n",
    "dbutils.widgets.text(\"schema_name\", \"pdf_chat\")\n",
    "dbutils.widgets.text(\"table_name\", \"parsed_pdf_docs\")\n",
    "dbutils.widgets.text(\"chunked_table_name\", \"chunked_pdf_docs\")\n",
    "dbutils.widgets.text(\"vector_index_path\", \"chunked_pdf_docs_index\")\n",
    "\n",
    "catalog_name = dbutils.widgets.get(\"catalog_name\")\n",
    "schema_name = dbutils.widgets.get(\"schema_name\")\n",
    "table_name = dbutils.widgets.get(\"table_name\")\n",
    "chunked_table_name = dbutils.widgets.get(\"chunked_table_name\")\n",
    "vector_index_path = dbutils.widgets.get(\"vector_index_path\")\n",
    "\n",
    "full_table_path = f\"{catalog_name}.{schema_name}.{table_name}\"\n",
    "chunked_table_path = f\"{catalog_name}.{schema_name}.{chunked_table_name}\""
   ]
  },
  {
   "cell_type": "code",
   "execution_count": 0,
   "metadata": {
    "application/vnd.databricks.v1+cell": {
     "cellMetadata": {
      "byteLimit": 2048000,
      "rowLimit": 10000
     },
     "inputWidgets": {},
     "nuid": "5af66706-7e7a-4c22-a012-aa0815607d22",
     "showTitle": false,
     "tableResultSettingsMap": {},
     "title": ""
    }
   },
   "outputs": [],
   "source": [
    "from langchain.text_splitter import RecursiveCharacterTextSplitter\n",
    "from pyspark.sql.functions import expr, col, explode\n",
    "import pyspark.pandas as pd\n",
    "import logging\n",
    "\n",
    "def read_and_cast_table(spark, full_table_path):\n",
    "    try:\n",
    "        df = spark.read.table(full_table_path)\n",
    "        df_casted = df.select(\n",
    "            \"path\",\n",
    "            expr(\"CAST(parsed:elements AS ARRAY<STRUCT<id: BIGINT, page_indices: ARRAY<BIGINT>, representation: STRUCT<text: STRING, markdown: STRING>, title: STRING, summary: STRING, type: STRING>>)\").alias(\"elements\")\n",
    "        )\n",
    "        return df_casted\n",
    "    except Exception as e:\n",
    "        logging.error(f\"Error reading or casting table: {e}\")\n",
    "        raise\n",
    "\n",
    "def explode_elements(df_casted):\n",
    "    try:\n",
    "        df_flat = df_casted.select(\"path\", explode(\"elements\").alias(\"el\"))\n",
    "        df_chunks = df_flat.select(\n",
    "            col(\"path\"),\n",
    "            col(\"el.id\").alias(\"element_id\"),\n",
    "            col(\"el.page_indices\").getItem(0).alias(\"page\"),\n",
    "            col(\"el.title\"),\n",
    "            col(\"el.summary\"),\n",
    "            col(\"el.type\"),\n",
    "            col(\"el.representation.text\").alias(\"text\")\n",
    "        ).filter(col(\"text\").isNotNull())\n",
    "        return df_chunks\n",
    "    except Exception as e:\n",
    "        logging.error(f\"Error exploding elements: {e}\")\n",
    "        raise\n",
    "\n",
    "def chunk_text_elements(pdf_df):\n",
    "    try:\n",
    "        splitter = RecursiveCharacterTextSplitter(chunk_size=500, chunk_overlap=50)\n",
    "        chunks = []\n",
    "        for _, row in pdf_df.iterrows():\n",
    "            splits = splitter.split_text(row['text'])\n",
    "            for i, chunk in enumerate(splits):\n",
    "                chunks.append({\n",
    "                    \"path\": row['path'],\n",
    "                    \"element_id\": row['element_id'],\n",
    "                    \"page\": row['page'],\n",
    "                    \"type\": row['type'],\n",
    "                    \"title\": row['title'],\n",
    "                    \"summary\": row['summary'],\n",
    "                    \"chunk_text\": chunk,\n",
    "                    \"chunk_id\": f\"{row['path']}_e{row['element_id']}_c{i}\"\n",
    "                })\n",
    "        chunk_df = pd.DataFrame(chunks)\n",
    "        return chunk_df\n",
    "    except Exception as e:\n",
    "        logging.error(f\"Error chunking text elements: {e}\")\n",
    "        raise"
   ]
  },
  {
   "cell_type": "code",
   "execution_count": 0,
   "metadata": {
    "application/vnd.databricks.v1+cell": {
     "cellMetadata": {
      "byteLimit": 2048000,
      "rowLimit": 10000
     },
     "inputWidgets": {},
     "nuid": "973dde30-7668-472f-a825-4f852a217564",
     "showTitle": false,
     "tableResultSettingsMap": {},
     "title": ""
    }
   },
   "outputs": [],
   "source": [
    "import logging\n",
    "\n",
    "logging.basicConfig(level=logging.ERROR)\n",
    "\n",
    "# Read and cast table\n",
    "df_casted = read_and_cast_table(spark, full_table_path)\n",
    "\n",
    "# Explode elements\n",
    "df_chunks = explode_elements(df_casted)\n",
    "\n",
    "# Convert to Pandas for chunking\n",
    "pdf_df = df_chunks.toPandas()\n",
    "\n",
    "# Chunk per element, preserve metadata\n",
    "chunk_df = chunk_text_elements(pdf_df)\n",
    "\n",
    "from pyspark.sql.functions import monotonically_increasing_id\n",
    "\n",
    "chunk_sdf = chunk_df.to_spark()\n",
    "chunk_sdf = chunk_sdf.withColumn(\"id\", monotonically_increasing_id())\n",
    "display(chunk_sdf)"
   ]
  },
  {
   "cell_type": "code",
   "execution_count": 0,
   "metadata": {
    "application/vnd.databricks.v1+cell": {
     "cellMetadata": {
      "byteLimit": 2048000,
      "rowLimit": 10000
     },
     "inputWidgets": {},
     "nuid": "6ad4ca66-edd3-4aa3-8e41-65c129509d5d",
     "showTitle": false,
     "tableResultSettingsMap": {},
     "title": ""
    }
   },
   "outputs": [],
   "source": [
    "chunk_sdf.write.mode(\"overwrite\").saveAsTable(chunked_table_path)\n",
    "spark.sql(f\"ALTER TABLE {chunked_table_path} SET TBLPROPERTIES (delta.enableChangeDataFeed = true)\")"
   ]
  },
  {
   "cell_type": "markdown",
   "metadata": {
    "application/vnd.databricks.v1+cell": {
     "cellMetadata": {},
     "inputWidgets": {},
     "nuid": "6b15f5c7-993b-4e87-9363-e6b0ad7c752d",
     "showTitle": false,
     "tableResultSettingsMap": {},
     "title": ""
    }
   },
   "source": [
    "# Setup Vector Search Endpoint & a UC Function to retrive similar documents"
   ]
  },
  {
   "cell_type": "code",
   "execution_count": 0,
   "metadata": {
    "application/vnd.databricks.v1+cell": {
     "cellMetadata": {
      "byteLimit": 2048000,
      "rowLimit": 10000
     },
     "inputWidgets": {},
     "nuid": "94582b27-e60d-446f-91ff-c5f45312ec3a",
     "showTitle": false,
     "tableResultSettingsMap": {},
     "title": ""
    }
   },
   "outputs": [],
   "source": [
    "from databricks.vector_search.client import VectorSearchClient\n",
    "\n",
    "client = VectorSearchClient()\n",
    "# client.list_endpoints()"
   ]
  },
  {
   "cell_type": "code",
   "execution_count": 0,
   "metadata": {
    "application/vnd.databricks.v1+cell": {
     "cellMetadata": {
      "byteLimit": 2048000,
      "rowLimit": 10000
     },
     "inputWidgets": {},
     "nuid": "9dac882b-8f61-4801-961a-810bfb3e2513",
     "showTitle": false,
     "tableResultSettingsMap": {},
     "title": ""
    }
   },
   "outputs": [],
   "source": [
    "vector_index = f\"{catalog_name}.{schema_name}.{vector_index_path}\"\n",
    "try:\n",
    "    index = client.create_delta_sync_index(\n",
    "        endpoint_name=\"one-env-shared-endpoint-17\",\n",
    "        source_table_name=chunked_table_path,\n",
    "        index_name=vector_index,\n",
    "        pipeline_type=\"TRIGGERED\",\n",
    "        primary_key=\"id\",\n",
    "        embedding_source_column=\"chunk_text\",\n",
    "        embedding_model_endpoint_name=\"databricks-gte-large-en\"\n",
    "    )\n",
    "except Exception as e:\n",
    "    if \"already exists\" in str(e):\n",
    "        index = client.get_index(index_name=vector_index)\n",
    "    else:\n",
    "        raise e\n",
    "\n",
    "index.describe()"
   ]
  },
  {
   "cell_type": "code",
   "execution_count": 0,
   "metadata": {
    "application/vnd.databricks.v1+cell": {
     "cellMetadata": {
      "byteLimit": 2048000,
      "rowLimit": 10000
     },
     "inputWidgets": {},
     "nuid": "b49d2677-f145-47f7-bb32-166278f92684",
     "showTitle": false,
     "tableResultSettingsMap": {},
     "title": ""
    }
   },
   "outputs": [],
   "source": [
    "index.similarity_search(\n",
    "    query_text=\"International roaming\", \n",
    "    columns=[\"id\", \"chunk_text\"]\n",
    ")"
   ]
  },
  {
   "cell_type": "markdown",
   "metadata": {
    "application/vnd.databricks.v1+cell": {
     "cellMetadata": {},
     "inputWidgets": {},
     "nuid": "4050bc52-2856-4a1d-98ad-a5a129b9703c",
     "showTitle": false,
     "tableResultSettingsMap": {},
     "title": ""
    }
   },
   "source": [
    "## Create a Function in UC to query Vector Search (Optional)"
   ]
  },
  {
   "cell_type": "code",
   "execution_count": 0,
   "metadata": {
    "application/vnd.databricks.v1+cell": {
     "cellMetadata": {
      "byteLimit": 2048000,
      "implicitDf": true,
      "rowLimit": 10000
     },
     "inputWidgets": {},
     "nuid": "b718b32b-4aae-4acb-b806-f408bd2b7cc7",
     "showTitle": false,
     "tableResultSettingsMap": {},
     "title": ""
    }
   },
   "outputs": [],
   "source": [
    "%sql\n",
    "CREATE OR REPLACE FUNCTION rohitb_demo.pdf_chat.pdf_chat_vector_search (\n",
    "  -- The agent uses this comment to determine how to generate the query string parameter.\n",
    "  query STRING\n",
    "  COMMENT 'The query string for searching for answers from billing invoices.'\n",
    ") RETURNS TABLE\n",
    "-- Executes a search on a vector search index containing chunked text from various PDF files, specifically ATT billing invoices from different months. Each PDF has been parsed, and the chunked indexes are stored in the vector search index. This function retrieves relevant parts of the PDFs to assist an LLM in answering questions from the PDF.\n",
    "COMMENT 'Executes a search on historical billing invoices to retrieve most relevant to the input query.' RETURN\n",
    "SELECT\n",
    "  chunk_text as page_content,\n",
    "  map('doc_uri', path, 'chunk_id', chunk_id) as metadata\n",
    "FROM\n",
    "  vector_search(\n",
    "    -- Specify your Vector Search index name here\n",
    "    index => 'rohitb_demo.pdf_chat.chunked_pdf_docs_index',\n",
    "    query => query,\n",
    "    num_results => 5\n",
    "  )"
   ]
  }
 ],
 "metadata": {
  "application/vnd.databricks.v1+notebook": {
   "computePreferences": {
    "hardware": {
     "accelerator": null,
     "gpuPoolId": null,
     "memory": null
    }
   },
   "dashboards": [],
   "environmentMetadata": {
    "base_environment": "",
    "dependencies": [
     "databricks-langchain",
     "langchain-community ",
     "langchain",
     "databricks-sql-connector",
     "langchain-experimental",
     "langchain-openai",
     "databricks-vectorsearch"
    ],
    "environment_version": "2"
   },
   "inputWidgetPreferences": null,
   "language": "python",
   "notebookMetadata": {
    "mostRecentlyExecutedCommandWithImplicitDF": {
     "commandId": 2493754673873010,
     "dataframes": [
      "_sqldf"
     ]
    },
    "pythonIndentUnit": 2
   },
   "notebookName": "02-chunking",
   "widgets": {
    "catalog_name": {
     "currentValue": "rohitb_demo",
     "nuid": "60d4f333-a73c-466a-a928-fec98c05bf38",
     "typedWidgetInfo": {
      "autoCreated": false,
      "defaultValue": "rohitb_demo",
      "label": null,
      "name": "catalog_name",
      "options": {
       "widgetDisplayType": "Text",
       "validationRegex": null
      },
      "parameterDataType": "String"
     },
     "widgetInfo": {
      "widgetType": "text",
      "defaultValue": "rohitb_demo",
      "label": null,
      "name": "catalog_name",
      "options": {
       "widgetType": "text",
       "autoCreated": null,
       "validationRegex": null
      }
     }
    },
    "chunked_table_name": {
     "currentValue": "chunked_pdf_docs",
     "nuid": "a6379033-cc0b-445f-860b-d605ae4285f6",
     "typedWidgetInfo": {
      "autoCreated": false,
      "defaultValue": "chunked_pdf_docs",
      "label": null,
      "name": "chunked_table_name",
      "options": {
       "widgetDisplayType": "Text",
       "validationRegex": null
      },
      "parameterDataType": "String"
     },
     "widgetInfo": {
      "widgetType": "text",
      "defaultValue": "chunked_pdf_docs",
      "label": null,
      "name": "chunked_table_name",
      "options": {
       "widgetType": "text",
       "autoCreated": null,
       "validationRegex": null
      }
     }
    },
    "schema_name": {
     "currentValue": "pdf_chat",
     "nuid": "bb989500-b146-47cf-aec2-5acce2e152b3",
     "typedWidgetInfo": {
      "autoCreated": false,
      "defaultValue": "pdf_chat",
      "label": null,
      "name": "schema_name",
      "options": {
       "widgetDisplayType": "Text",
       "validationRegex": null
      },
      "parameterDataType": "String"
     },
     "widgetInfo": {
      "widgetType": "text",
      "defaultValue": "pdf_chat",
      "label": null,
      "name": "schema_name",
      "options": {
       "widgetType": "text",
       "autoCreated": null,
       "validationRegex": null
      }
     }
    },
    "table_name": {
     "currentValue": "parsed_pdf_docs",
     "nuid": "0013ac42-97c9-45d9-a48d-d2f68e7e0556",
     "typedWidgetInfo": {
      "autoCreated": false,
      "defaultValue": "parsed_pdf_docs",
      "label": null,
      "name": "table_name",
      "options": {
       "widgetDisplayType": "Text",
       "validationRegex": null
      },
      "parameterDataType": "String"
     },
     "widgetInfo": {
      "widgetType": "text",
      "defaultValue": "parsed_pdf_docs",
      "label": null,
      "name": "table_name",
      "options": {
       "widgetType": "text",
       "autoCreated": null,
       "validationRegex": null
      }
     }
    },
    "vector_index_path": {
     "currentValue": "chunked_pdf_docs_index",
     "nuid": "e886a09c-c0f2-4920-b502-2b86de9de166",
     "typedWidgetInfo": {
      "autoCreated": false,
      "defaultValue": "chunked_pdf_docs_index",
      "label": null,
      "name": "vector_index_path",
      "options": {
       "widgetDisplayType": "Text",
       "validationRegex": null
      },
      "parameterDataType": "String"
     },
     "widgetInfo": {
      "widgetType": "text",
      "defaultValue": "chunked_pdf_docs_index",
      "label": null,
      "name": "vector_index_path",
      "options": {
       "widgetType": "text",
       "autoCreated": null,
       "validationRegex": null
      }
     }
    }
   }
  },
  "language_info": {
   "name": "python"
  }
 },
 "nbformat": 4,
 "nbformat_minor": 0
}
