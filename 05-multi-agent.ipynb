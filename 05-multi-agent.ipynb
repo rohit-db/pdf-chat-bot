{
 "cells": [
  {
   "cell_type": "markdown",
   "metadata": {
    "application/vnd.databricks.v1+cell": {
     "cellMetadata": {},
     "inputWidgets": {},
     "nuid": "78a39a23-3c4c-4e8b-8fdc-1a97821e6167",
     "showTitle": false,
     "tableResultSettingsMap": {},
     "title": ""
    }
   },
   "source": [
    "# Mosaic AI Agent Framework: Author and deploy a multi-agent system with Genie\n",
    "\n",
    "This notebook demonstrates how to build a multi-agent system using Mosaic AI Agent Framework and [LangGraph](https://blog.langchain.dev/langgraph-multi-agent-workflows/), where [Genie](https://www.databricks.com/product/ai-bi/genie) is one of the agents.\n",
    "In this notebook, you:\n",
    "1. Author a multi-agent system using LangGraph.\n",
    "1. Wrap the LangGraph agent with MLflow `ChatAgent` to ensure compatibility with Databricks features.\n",
    "1. Manually test the multi-agent system's output.\n",
    "1. Log and deploy the multi-agent system.\n",
    "\n",
    "This example is based on [LangGraph documentation - Multi-agent supervisor example](https://github.com/langchain-ai/langgraph/blob/main/docs/docs/tutorials/multi_agent/agent_supervisor.ipynb)\n",
    "\n",
    "## Why use a Genie agent?\n",
    "\n",
    "Multi-agent systems consist of multiple AI agents working together, each with specialized capabilities. As one of those agents, Genie allows users to interact with their structured data using natural language.\n",
    "\n",
    "Unlike SQL functions which can only run pre-defined queries, Genie has the flexibility to create novel queries to answer user questions."
   ]
  },
  {
   "cell_type": "code",
   "execution_count": 0,
   "metadata": {
    "application/vnd.databricks.v1+cell": {
     "cellMetadata": {
      "byteLimit": 2048000,
      "rowLimit": 10000
     },
     "inputWidgets": {},
     "nuid": "348826b4-34dd-4e4e-86c1-6e39b5d14686",
     "showTitle": false,
     "tableResultSettingsMap": {},
     "title": ""
    }
   },
   "outputs": [],
   "source": [
    "%pip install -U -qqq mlflow langgraph==0.3.4 databricks-langchain uv databricks-agents>=0.16.0 mlflow>=2.20.2\n",
    "dbutils.library.restartPython()"
   ]
  },
  {
   "cell_type": "code",
   "execution_count": 0,
   "metadata": {
    "application/vnd.databricks.v1+cell": {
     "cellMetadata": {
      "byteLimit": 2048000,
      "rowLimit": 10000
     },
     "inputWidgets": {},
     "nuid": "4d5adc47-4de8-455a-8fc6-9ec9b7a6c077",
     "showTitle": false,
     "tableResultSettingsMap": {},
     "title": ""
    }
   },
   "outputs": [],
   "source": [
    "import functools\n",
    "import os\n",
    "from typing import Any, Generator, Literal, Optional\n",
    "\n",
    "import mlflow\n",
    "from databricks.sdk import WorkspaceClient\n",
    "from databricks_langchain import (\n",
    "    ChatDatabricks,\n",
    "    UCFunctionToolkit,\n",
    "    VectorSearchRetrieverTool\n",
    ")\n",
    "from databricks_langchain.genie import GenieAgent\n",
    "from langchain_core.runnables import RunnableLambda\n",
    "from langgraph.graph import END, StateGraph\n",
    "from langgraph.graph.state import CompiledStateGraph\n",
    "from langgraph.prebuilt import create_react_agent\n",
    "from mlflow.langchain.chat_agent_langgraph import ChatAgentState\n",
    "from mlflow.pyfunc import ChatAgent\n",
    "from mlflow.types.agent import (\n",
    "    ChatAgentChunk,\n",
    "    ChatAgentMessage,\n",
    "    ChatAgentResponse,\n",
    "    ChatContext,\n",
    ")\n",
    "from pydantic import BaseModel\n",
    "\n",
    "# Configuration\n",
    "GENIE_SPACE_ID = \"01f025452ab7187abf84076f27b5d249\"\n",
    "GENIE_AGENT_DESCRIPTION = (\n",
    "    \"This genie agent can answer questions for querying usage data from billing documents. \"\n",
    "    \"The pdf documents have been parsed specifically into predefined structured output so that billing details and usage details can be extracted. \"\n",
    "    \"Especially if there are questions around total usage by months, this agent can help.\"\n",
    ")\n",
    "LLM_ENDPOINT_NAME = \"databricks-claude-3-7-sonnet\"\n",
    "VECTOR_SEARCH_INDEX_NAME = \"rohitb_demo.pdf_chat.chunked_pdf_docs_index\"\n",
    "VECTOR_SEARCH_INDEX_DESCRIPTION = (\n",
    "    \"The index contains extracted entities from pdf documents from all the bills. \"\n",
    "    \"The bills are invoices from AT&T by month and include details like usage, terms and conditions etc.\"\n",
    ")\n",
    "RAG_AGENT_DESCRIPTION = (\n",
    "    \"This agent specializes in extracting relevant information from PDF bills stored. \"\n",
    "    \"This can be used especially when there're specific pin point questions about a bill and not when there're questions like aggregation.\"\n",
    ")\n",
    "MAX_ITERATIONS = 3\n",
    "\n",
    "# Functions to create agents and tools\n",
    "def create_genie_agent():\n",
    "    return GenieAgent(\n",
    "        genie_space_id=GENIE_SPACE_ID,\n",
    "        genie_agent_name=\"Genie\",\n",
    "        description=GENIE_AGENT_DESCRIPTION,\n",
    "        client=WorkspaceClient(\n",
    "            host=os.getenv(\"DB_MODEL_SERVING_HOST_URL\"),\n",
    "            token=os.getenv(\"DATABRICKS_GENIE_PAT\"),\n",
    "        ),\n",
    "    )\n",
    "\n",
    "def create_llm():\n",
    "    return ChatDatabricks(endpoint=LLM_ENDPOINT_NAME)\n",
    "\n",
    "def create_tools():\n",
    "    tools = []\n",
    "    uc_toolkit = UCFunctionToolkit(function_names=[])\n",
    "    tools.extend(uc_toolkit.tools)\n",
    "    vector_search_tool = VectorSearchRetrieverTool(\n",
    "        index_name=VECTOR_SEARCH_INDEX_NAME,\n",
    "        tool_description=VECTOR_SEARCH_INDEX_DESCRIPTION\n",
    "    )\n",
    "    tools.append(vector_search_tool)\n",
    "    return tools\n",
    "\n",
    "def create_rag_agent(llm, tools):\n",
    "    return create_react_agent(llm, tools=tools)\n",
    "\n",
    "def create_supervisor_agent(llm, worker_descriptions):\n",
    "    formatted_descriptions = \"\\n\".join(\n",
    "        f\"- {name}: {desc}\" for name, desc in worker_descriptions.items()\n",
    "    )\n",
    "    system_prompt = f\"Decide between routing between the following workers or ending the conversation if an answer is provided. \\n{formatted_descriptions}\"\n",
    "    options = [\"FINISH\"] + list(worker_descriptions.keys())\n",
    "    FINISH = {\"next_node\": \"FINISH\"}\n",
    "\n",
    "    def supervisor_agent(state):\n",
    "        count = state.get(\"iteration_count\", 0) + 1\n",
    "        if count > MAX_ITERATIONS:\n",
    "            return FINISH\n",
    "        \n",
    "        class nextNode(BaseModel):\n",
    "            next_node: Literal[tuple(options)]\n",
    "\n",
    "        preprocessor = RunnableLambda(\n",
    "            lambda state: [{\"role\": \"system\", \"content\": system_prompt}] + state[\"messages\"]\n",
    "        )\n",
    "        supervisor_chain = preprocessor | llm.with_structured_output(nextNode)\n",
    "        next_node = supervisor_chain.invoke(state).next_node\n",
    "        \n",
    "        if state.get(\"next_node\") == next_node:\n",
    "            return FINISH\n",
    "        return {\n",
    "            \"iteration_count\": count,\n",
    "            \"next_node\": next_node\n",
    "        }\n",
    "    \n",
    "    return supervisor_agent\n",
    "\n",
    "def create_workflow(genie_agent, rag_agent, supervisor_agent):\n",
    "    def agent_node(state, agent, name):\n",
    "        result = agent.invoke(state)\n",
    "        return {\n",
    "            \"messages\": [\n",
    "                {\n",
    "                    \"role\": \"assistant\",\n",
    "                    \"content\": result[\"messages\"][-1].content,\n",
    "                    \"name\": name,\n",
    "                }\n",
    "            ]\n",
    "        }\n",
    "\n",
    "    def final_answer(state):\n",
    "        prompt = \"Using only the content in the messages, respond to the previous user question using the answer given by the other assistant messages.\"\n",
    "        preprocessor = RunnableLambda(\n",
    "            lambda state: state[\"messages\"] + [{\"role\": \"user\", \"content\": prompt}]\n",
    "        )\n",
    "        final_answer_chain = preprocessor | llm\n",
    "        return {\"messages\": [final_answer_chain.invoke(state)]}\n",
    "\n",
    "    class AgentState(ChatAgentState):\n",
    "        next_node: str\n",
    "        iteration_count: int\n",
    "\n",
    "    rag_node = functools.partial(agent_node, agent=rag_agent, name=\"RAG\")\n",
    "    genie_node = functools.partial(agent_node, agent=genie_agent, name=\"Genie\")\n",
    "\n",
    "    workflow = StateGraph(AgentState)\n",
    "    workflow.add_node(\"Genie\", genie_node)\n",
    "    workflow.add_node(\"RAG\", rag_node)\n",
    "    workflow.add_node(\"supervisor\", supervisor_agent)\n",
    "    workflow.add_node(\"final_answer\", final_answer)\n",
    "\n",
    "    workflow.set_entry_point(\"supervisor\")\n",
    "    for worker in worker_descriptions.keys():\n",
    "        workflow.add_edge(worker, \"supervisor\")\n",
    "\n",
    "    workflow.add_conditional_edges(\n",
    "        \"supervisor\",\n",
    "        lambda x: x[\"next_node\"],\n",
    "        {**{k: k for k in worker_descriptions.keys()}, \"FINISH\": \"final_answer\"},\n",
    "    )\n",
    "    workflow.add_edge(\"final_answer\", END)\n",
    "    return workflow.compile()\n",
    "\n",
    "# Main script\n",
    "genie_agent = create_genie_agent()\n",
    "llm = create_llm()\n",
    "tools = create_tools()\n",
    "rag_agent = create_rag_agent(llm, tools)\n",
    "\n",
    "worker_descriptions = {\n",
    "    \"Genie\": GENIE_AGENT_DESCRIPTION,\n",
    "    \"RAG\": RAG_AGENT_DESCRIPTION,\n",
    "}\n",
    "\n",
    "supervisor_agent = create_supervisor_agent(llm, worker_descriptions)\n",
    "multi_agent = create_workflow(genie_agent, rag_agent, supervisor_agent)\n",
    "\n",
    "class LangGraphChatAgent(ChatAgent):\n",
    "    def __init__(self, agent: CompiledStateGraph):\n",
    "        self.agent = agent\n",
    "\n",
    "    def predict(\n",
    "        self,\n",
    "        messages: list[ChatAgentMessage],\n",
    "        context: Optional[ChatContext] = None,\n",
    "        custom_inputs: Optional[dict[str, Any]] = None,\n",
    "    ) -> ChatAgentResponse:\n",
    "        request = {\n",
    "            \"messages\": [m.model_dump_compat(exclude_none=True) for m in messages]\n",
    "        }\n",
    "\n",
    "        messages = []\n",
    "        for event in self.agent.stream(request, stream_mode=\"updates\"):\n",
    "            for node_data in event.values():\n",
    "                messages.extend(\n",
    "                    ChatAgentMessage(**msg) for msg in node_data.get(\"messages\", [])\n",
    "                )\n",
    "        return ChatAgentResponse(messages=messages)\n",
    "\n",
    "    def predict_stream(\n",
    "        self,\n",
    "        messages: list[ChatAgentMessage],\n",
    "        context: Optional[ChatContext] = None,\n",
    "        custom_inputs: Optional[dict[str, Any]] = None,\n",
    "    ) -> Generator[ChatAgentChunk, None, None]:\n",
    "        request = {\n",
    "            \"messages\": [m.model_dump_compat(exclude_none=True) for m in messages]\n",
    "        }\n",
    "        for event in self.agent.stream(request, stream_mode=\"updates\"):\n",
    "            for node_data in event.values():\n",
    "                yield from (\n",
    "                    ChatAgentChunk(**{\"delta\": msg})\n",
    "                    for msg in node_data.get(\"messages\", [])\n",
    "                )\n",
    "\n",
    "mlflow.langchain.autolog()\n",
    "AGENT = LangGraphChatAgent(multi_agent)\n",
    "mlflow.models.set_model(AGENT)"
   ]
  },
  {
   "cell_type": "markdown",
   "metadata": {
    "application/vnd.databricks.v1+cell": {
     "cellMetadata": {},
     "inputWidgets": {},
     "nuid": "f42df964-4bd1-4bb2-8992-e03dde45c808",
     "showTitle": false,
     "tableResultSettingsMap": {},
     "title": ""
    }
   },
   "source": [
    "## Test the agent\n",
    "\n",
    "Interact with the agent to test its output. Since this notebook called `mlflow.langchain.autolog()` you can view the trace for each step the agent takes."
   ]
  },
  {
   "cell_type": "code",
   "execution_count": 0,
   "metadata": {
    "application/vnd.databricks.v1+cell": {
     "cellMetadata": {
      "byteLimit": 2048000,
      "rowLimit": 10000
     },
     "collapsed": true,
     "inputWidgets": {},
     "nuid": "57ead9d3-762a-4b71-b4f1-e03794b7b666",
     "showTitle": false,
     "tableResultSettingsMap": {},
     "title": ""
    }
   },
   "outputs": [],
   "source": [
    "import os\n",
    "from dbruntime.databricks_repl_context import get_context\n",
    "\n",
    "secret_scope_name = \"field-eng\"\n",
    "secret_key_name = \"rohitb_genie_pat\"\n",
    "\n",
    "# os.environ[\"DB_MODEL_SERVING_HOST_URL\"] = \"https://\" + get_context().workspaceUrl\n",
    "\n",
    "# Workaround for serverless\n",
    "os.environ[\"DB_MODEL_SERVING_HOST_URL\"] = \"https://\" + \"e2-demo-field-eng.cloud.databricks.com\"\n",
    "assert os.environ[\"DB_MODEL_SERVING_HOST_URL\"] is not None\n",
    "os.environ[\"DATABRICKS_GENIE_PAT\"] = dbutils.secrets.get(\n",
    "    scope=secret_scope_name, key=secret_key_name\n",
    ")\n",
    "assert os.environ[\"DATABRICKS_GENIE_PAT\"] is not None, (\n",
    "    \"The DATABRICKS_GENIE_PAT was not properly set to the PAT secret\"\n",
    ")"
   ]
  },
  {
   "cell_type": "code",
   "execution_count": 0,
   "metadata": {
    "application/vnd.databricks.v1+cell": {
     "cellMetadata": {
      "byteLimit": 2048000,
      "rowLimit": 10000
     },
     "inputWidgets": {},
     "nuid": "97dfaeb1-635e-416f-abb2-d2fc85563f81",
     "showTitle": false,
     "tableResultSettingsMap": {},
     "title": ""
    }
   },
   "outputs": [],
   "source": [
    "from agent import AGENT, genie_agent_description\n",
    "\n",
    "assert genie_agent_description != \"This genie agent can answer ...\", (\n",
    "    \"Remember to update the genie agent description for higher quality answers.\"\n",
    ")\n",
    "input_example = {\n",
    "    \"messages\": [\n",
    "        {\n",
    "            \"role\": \"user\",\n",
    "            \"content\": \"What is the total bill for February 2024?\",\n",
    "        }\n",
    "    ]\n",
    "}\n",
    "AGENT.predict(input_example)"
   ]
  },
  {
   "cell_type": "code",
   "execution_count": 0,
   "metadata": {
    "application/vnd.databricks.v1+cell": {
     "cellMetadata": {
      "byteLimit": 2048000,
      "rowLimit": 10000
     },
     "inputWidgets": {},
     "nuid": "f10c636b-df84-4d60-b7ae-b777b80be43d",
     "showTitle": false,
     "tableResultSettingsMap": {},
     "title": ""
    }
   },
   "outputs": [],
   "source": [
    "input_example = {\n",
    "    \"messages\": [\n",
    "        {\n",
    "            \"role\": \"user\",\n",
    "            \"content\": \"What're the terms and conditions??\",\n",
    "        }\n",
    "    ]\n",
    "}\n",
    "AGENT.predict(input_example)"
   ]
  },
  {
   "cell_type": "markdown",
   "metadata": {
    "application/vnd.databricks.v1+cell": {
     "cellMetadata": {},
     "inputWidgets": {},
     "nuid": "8ee2bd89-00e8-4219-9a4f-e8a8e598f93c",
     "showTitle": false,
     "tableResultSettingsMap": {},
     "title": ""
    }
   },
   "source": [
    "## Log the agent as an MLflow model\n",
    "\n",
    "Log the agent as code from the `agent.py` file. See [MLflow - Models from Code](https://mlflow.org/docs/latest/models.html#models-from-code).\n",
    "\n",
    "### Enable automatic authentication for Databricks resources\n",
    "For the most common Databricks resource types, Databricks supports and recommends declaring resource dependencies for the agent upfront during logging. This enables automatic authentication passthrough when you deploy the agent. With automatic authentication passthrough, Databricks automatically provisions, rotates, and manages short-lived credentials to securely access these resource dependencies from within the agent endpoint.\n",
    "\n",
    "To enable automatic authentication, specify the dependent Databricks resources when calling `mlflow.pyfunc.log_model().`\n",
    "  - **TODO**: If your Unity Catalog tool queries a [vector search index](docs link) or leverages [external functions](docs link), you need to include the dependent vector search index and UC connection objects, respectively, as resources. See docs ([AWS](https://docs.databricks.com/generative-ai/agent-framework/log-agent.html#specify-resources-for-automatic-authentication-passthrough) | [Azure](https://learn.microsoft.com/azure/databricks/generative-ai/agent-framework/log-agent#resources))."
   ]
  },
  {
   "cell_type": "code",
   "execution_count": 0,
   "metadata": {
    "application/vnd.databricks.v1+cell": {
     "cellMetadata": {
      "byteLimit": 2048000,
      "rowLimit": 10000
     },
     "inputWidgets": {},
     "nuid": "249516e6-d294-43ab-8dd2-6034fd7c976c",
     "showTitle": false,
     "tableResultSettingsMap": {},
     "title": ""
    }
   },
   "outputs": [],
   "source": [
    "# Determine Databricks resources to specify for automatic auth passthrough at deployment time\n",
    "import mlflow\n",
    "from agent import GENIE_SPACE_ID, LLM_ENDPOINT_NAME, tools\n",
    "from databricks_langchain import UnityCatalogTool, VectorSearchRetrieverTool\n",
    "from mlflow.models.resources import (\n",
    "    DatabricksFunction,\n",
    "    DatabricksGenieSpace,\n",
    "    DatabricksServingEndpoint,\n",
    "    DatabricksVectorSearchIndex, \n",
    "    # DatabricksUCConnection\n",
    ")\n",
    "from pkg_resources import get_distribution\n",
    "\n",
    "# TODO: Manually include underlying resources if needed. See the TODO in the markdown above for more information.\n",
    "resources = [\n",
    "    DatabricksServingEndpoint(endpoint_name=LLM_ENDPOINT_NAME),\n",
    "    DatabricksGenieSpace(genie_space_id=GENIE_SPACE_ID),\n",
    "    # DatabricksUCConnection(),\n",
    "    DatabricksVectorSearchIndex(index_name=\"rohitb_demo.pdf_chat.chunked_pdf_docs_index\")\n",
    "\n",
    "]\n",
    "for tool in tools:\n",
    "    if isinstance(tool, VectorSearchRetrieverTool):\n",
    "        resources.extend(tool.resources)\n",
    "    elif isinstance(tool, UnityCatalogTool):\n",
    "        resources.append(DatabricksFunction(function_name=tool.uc_function_name))\n",
    "\n",
    "with mlflow.start_run():\n",
    "    logged_agent_info = mlflow.pyfunc.log_model(\n",
    "        artifact_path=\"agent\",\n",
    "        python_model=\"agent.py\",\n",
    "        input_example=input_example,\n",
    "        extra_pip_requirements=[f\"databricks-connect=={get_distribution('databricks-connect').version}\"],\n",
    "        resources=resources,\n",
    "    )"
   ]
  },
  {
   "cell_type": "markdown",
   "metadata": {
    "application/vnd.databricks.v1+cell": {
     "cellMetadata": {},
     "inputWidgets": {},
     "nuid": "ea56f16a-a065-4450-92ec-6fd678047724",
     "showTitle": false,
     "tableResultSettingsMap": {},
     "title": ""
    }
   },
   "source": [
    "## Pre-deployment agent validation\n",
    "Before registering and deploying the agent, perform pre-deployment checks using the [mlflow.models.predict()](https://mlflow.org/docs/latest/python_api/mlflow.models.html#mlflow.models.predict) API. See Databricks documentation ([AWS](https://docs.databricks.com/en/machine-learning/model-serving/model-serving-debug.html#validate-inputs) | [Azure](https://learn.microsoft.com/en-us/azure/databricks/machine-learning/model-serving/model-serving-debug#before-model-deployment-validation-checks)).\""
   ]
  },
  {
   "cell_type": "code",
   "execution_count": 0,
   "metadata": {
    "application/vnd.databricks.v1+cell": {
     "cellMetadata": {
      "byteLimit": 2048000,
      "rowLimit": 10000
     },
     "inputWidgets": {},
     "nuid": "8821c591-a284-48aa-b73d-623f6c09fef7",
     "showTitle": false,
     "tableResultSettingsMap": {},
     "title": ""
    }
   },
   "outputs": [],
   "source": [
    "import mlflow\n",
    "mlflow.models.predict(\n",
    "    model_uri=f\"runs:/{logged_agent_info.run_id}/agent\",\n",
    "    input_data=input_example,\n",
    "    env_manager=\"uv\",\n",
    ")"
   ]
  },
  {
   "cell_type": "markdown",
   "metadata": {
    "application/vnd.databricks.v1+cell": {
     "cellMetadata": {},
     "inputWidgets": {},
     "nuid": "4198ee5b-4405-479e-a64c-f6c416bf8d4f",
     "showTitle": false,
     "tableResultSettingsMap": {},
     "title": ""
    }
   },
   "source": [
    "## Register the model to Unity Catalog\n",
    "\n",
    "Update the `catalog`, `schema`, and `model_name` below to register the MLflow model to Unity Catalog."
   ]
  },
  {
   "cell_type": "code",
   "execution_count": 0,
   "metadata": {
    "application/vnd.databricks.v1+cell": {
     "cellMetadata": {},
     "inputWidgets": {},
     "nuid": "076be251-79d4-4c91-88c8-7fbc7503e065",
     "showTitle": false,
     "tableResultSettingsMap": {},
     "title": ""
    }
   },
   "outputs": [],
   "source": [
    "mlflow.set_registry_uri(\"databricks-uc\")\n",
    "\n",
    "# TODO: define the catalog, schema, and model name for your UC model\n",
    "catalog = \"rohitb_demo\"\n",
    "schema = \"pdf_chat\"\n",
    "model_name = \"pdf_chat_master_agent\"\n",
    "UC_MODEL_NAME = f\"{catalog}.{schema}.{model_name}\"\n",
    "\n",
    "# register the model to UC\n",
    "uc_registered_model_info = mlflow.register_model(\n",
    "    model_uri=logged_agent_info.model_uri, name=UC_MODEL_NAME\n",
    ")"
   ]
  },
  {
   "cell_type": "markdown",
   "metadata": {
    "application/vnd.databricks.v1+cell": {
     "cellMetadata": {},
     "inputWidgets": {},
     "nuid": "446d4a0e-e976-47e7-8cf8-10bfbeac6242",
     "showTitle": false,
     "tableResultSettingsMap": {},
     "title": ""
    }
   },
   "source": [
    "## Deploy the agent"
   ]
  },
  {
   "cell_type": "code",
   "execution_count": 0,
   "metadata": {
    "application/vnd.databricks.v1+cell": {
     "cellMetadata": {},
     "inputWidgets": {},
     "nuid": "b58fcfb6-85a6-4fda-94ee-264afd8987fc",
     "showTitle": false,
     "tableResultSettingsMap": {},
     "title": ""
    }
   },
   "outputs": [],
   "source": [
    "from databricks import agents\n",
    "\n",
    "agents.deploy(\n",
    "    UC_MODEL_NAME,\n",
    "    uc_registered_model_info.version,\n",
    "    tags={\"endpointSource\": \"docs\"},\n",
    "    environment_vars={\n",
    "        \"DATABRICKS_GENIE_PAT\": f\"{{{{secrets/{secret_scope_name}/{secret_key_name}}}}}\"\n",
    "    },\n",
    ")"
   ]
  }
 ],
 "metadata": {
  "application/vnd.databricks.v1+notebook": {
   "computePreferences": null,
   "dashboards": [],
   "environmentMetadata": {
    "base_environment": "",
    "environment_version": "2"
   },
   "inputWidgetPreferences": null,
   "language": "python",
   "notebookMetadata": {
    "pythonIndentUnit": 2
   },
   "notebookName": "05-multi-agent",
   "widgets": {}
  },
  "language_info": {
   "name": "python"
  }
 },
 "nbformat": 4,
 "nbformat_minor": 0
}
