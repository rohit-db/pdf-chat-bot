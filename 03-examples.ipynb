{
 "cells": [
  {
   "cell_type": "code",
   "execution_count": 0,
   "metadata": {
    "application/vnd.databricks.v1+cell": {
     "cellMetadata": {
      "byteLimit": 2048000,
      "rowLimit": 10000
     },
     "inputWidgets": {},
     "nuid": "050b71fe-1028-4484-a8cb-bf6b0b72839f",
     "showTitle": false,
     "tableResultSettingsMap": {},
     "title": ""
    }
   },
   "outputs": [],
   "source": [
    "catalog_name = \"rohitb_demo\"\n",
    "schema_name = \"pdf_chat\"\n",
    "table_name = \"parsed_pdf_docs\"\n",
    "full_table_path = f\"{catalog_name}.{schema_name}.{table_name}\"\n",
    "chunked_table_path = f\"{catalog_name}.{schema_name}.chunked_pdf_docs\"\n",
    "vector_index_path = f\"{catalog_name}.{schema_name}.chunked_pdf_docs_index\""
   ]
  },
  {
   "cell_type": "code",
   "execution_count": 0,
   "metadata": {
    "application/vnd.databricks.v1+cell": {
     "cellMetadata": {
      "byteLimit": 2048000,
      "rowLimit": 10000
     },
     "inputWidgets": {},
     "nuid": "04c834ab-79c6-4dd7-99a4-4914c6c19564",
     "showTitle": false,
     "tableResultSettingsMap": {},
     "title": ""
    }
   },
   "outputs": [],
   "source": [
    "from databricks_langchain import DatabricksVectorSearch\n",
    "\n",
    "vector_store = DatabricksVectorSearch(index_name=vector_index_path)\n",
    "retriever = vector_store.as_retriever(search_kwargs={\"k\": 5})\n",
    "retriever.invoke(\"total bill February 2024?\")"
   ]
  },
  {
   "cell_type": "code",
   "execution_count": 0,
   "metadata": {
    "application/vnd.databricks.v1+cell": {
     "cellMetadata": {
      "byteLimit": 2048000,
      "implicitDf": true,
      "rowLimit": 10000
     },
     "inputWidgets": {},
     "nuid": "49c17dd4-0ed2-485e-b0c6-6f8cb4907e24",
     "showTitle": false,
     "tableResultSettingsMap": {},
     "title": ""
    }
   },
   "outputs": [],
   "source": [
    "%sql\n",
    "select * from rohitb_demo.pdf_chat.pdf_chat_vector_search('Bill for the month of February 2024?')"
   ]
  },
  {
   "cell_type": "markdown",
   "metadata": {
    "application/vnd.databricks.v1+cell": {
     "cellMetadata": {},
     "inputWidgets": {},
     "nuid": "530526b4-7fce-458b-927a-a08f2a2f0992",
     "showTitle": false,
     "tableResultSettingsMap": {},
     "title": ""
    }
   },
   "source": [
    "# Examples of Tool Calling"
   ]
  },
  {
   "cell_type": "markdown",
   "metadata": {
    "application/vnd.databricks.v1+cell": {
     "cellMetadata": {},
     "inputWidgets": {},
     "nuid": "c0f0673e-47df-4638-97ca-e359bbcca245",
     "showTitle": false,
     "tableResultSettingsMap": {},
     "title": ""
    }
   },
   "source": [
    "## With VectorSearchRetrieverTool"
   ]
  },
  {
   "cell_type": "code",
   "execution_count": 0,
   "metadata": {
    "application/vnd.databricks.v1+cell": {
     "cellMetadata": {
      "byteLimit": 2048000,
      "rowLimit": 10000
     },
     "inputWidgets": {},
     "nuid": "d9d1bad7-fa09-4c38-9c14-f668fad48976",
     "showTitle": false,
     "tableResultSettingsMap": {},
     "title": ""
    }
   },
   "outputs": [],
   "source": [
    "from databricks_langchain import VectorSearchRetrieverTool, ChatDatabricks\n",
    "\n",
    "# Initialize the retriever tool.\n",
    "vs_tool = VectorSearchRetrieverTool(\n",
    "  index_name=vector_index_path,\n",
    "  tool_name=\"pdf_docs_retriever\",\n",
    "  tool_description=\"Retrieves billing information from historical billing documents.\" \n",
    ")\n",
    "# Run a query against the vector search index locally for testing\n",
    "vs_tool.invoke(\"total bill February 2024?\")"
   ]
  },
  {
   "cell_type": "code",
   "execution_count": 0,
   "metadata": {
    "application/vnd.databricks.v1+cell": {
     "cellMetadata": {
      "byteLimit": 2048000,
      "rowLimit": 10000
     },
     "inputWidgets": {},
     "nuid": "d5dd9e9d-53ce-44e9-bbfa-f56d8af09f4d",
     "showTitle": false,
     "tableResultSettingsMap": {},
     "title": ""
    }
   },
   "outputs": [],
   "source": [
    "# Bind the retriever tool to your Langchain LLM of choice\n",
    "llm = ChatDatabricks(endpoint=\"databricks-meta-llama-3-1-70b-instruct\")\n",
    "llm_with_tools = llm.bind_tools([vs_tool])\n",
    "\n",
    "# Chat with your LLM to test the tool calling functionality\n",
    "llm_with_tools.invoke(\"total bill February 2024?\")"
   ]
  },
  {
   "cell_type": "markdown",
   "metadata": {
    "application/vnd.databricks.v1+cell": {
     "cellMetadata": {},
     "inputWidgets": {},
     "nuid": "256860ad-5eab-487d-89cb-6d098fd1dd98",
     "showTitle": false,
     "tableResultSettingsMap": {},
     "title": ""
    }
   },
   "source": [
    "## With UC Toolkit"
   ]
  },
  {
   "cell_type": "code",
   "execution_count": 0,
   "metadata": {
    "application/vnd.databricks.v1+cell": {
     "cellMetadata": {
      "byteLimit": 2048000,
      "rowLimit": 10000
     },
     "inputWidgets": {},
     "nuid": "1fcb4705-c133-49f0-96bc-9f22e2e7a3df",
     "showTitle": false,
     "tableResultSettingsMap": {},
     "title": ""
    }
   },
   "outputs": [],
   "source": [
    "from unitycatalog.ai.langchain.toolkit import UCFunctionToolkit\n",
    "\n",
    "toolkit = UCFunctionToolkit(\n",
    "    function_names=[\n",
    "        \"rohitb_demo.pdf_chat.pdf_chat_vector_search\"\n",
    "    ]\n",
    ")\n",
    "tools = toolkit.tools"
   ]
  },
  {
   "cell_type": "code",
   "execution_count": 0,
   "metadata": {
    "application/vnd.databricks.v1+cell": {
     "cellMetadata": {
      "byteLimit": 2048000,
      "rowLimit": 10000
     },
     "inputWidgets": {},
     "nuid": "3ad7c9fd-96d8-43e9-be9c-777f2c0dc1f1",
     "showTitle": false,
     "tableResultSettingsMap": {},
     "title": ""
    }
   },
   "outputs": [],
   "source": [
    "from databricks_langchain import VectorSearchRetrieverTool, ChatDatabricks\n",
    "# Bind the retriever tool to your Langchain LLM of choice\n",
    "llm = ChatDatabricks(endpoint=\"databricks-meta-llama-3-1-70b-instruct\")\n",
    "llm_with_tools = llm.bind_tools(tools)\n",
    "\n",
    "# Chat with your LLM to test the tool calling functionality\n",
    "llm_with_tools.invoke(\"total bill February 2024?\")"
   ]
  }
 ],
 "metadata": {
  "application/vnd.databricks.v1+notebook": {
   "computePreferences": {
    "hardware": {
     "accelerator": null,
     "gpuPoolId": null,
     "memory": null
    }
   },
   "dashboards": [],
   "environmentMetadata": {
    "base_environment": "",
    "dependencies": [
     "databricks_langchain",
     "unitycatalog-ai[databricks]",
     "unitycatalog-langchain",
     "pydantic"
    ],
    "environment_version": "2"
   },
   "inputWidgetPreferences": null,
   "language": "python",
   "notebookMetadata": {
    "mostRecentlyExecutedCommandWithImplicitDF": {
     "commandId": 2493754673903760,
     "dataframes": [
      "_sqldf"
     ]
    },
    "pythonIndentUnit": 2
   },
   "notebookName": "03-examples",
   "widgets": {}
  },
  "language_info": {
   "name": "python"
  }
 },
 "nbformat": 4,
 "nbformat_minor": 0
}
